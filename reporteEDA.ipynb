{
 "cells": [
  {
   "cell_type": "markdown",
   "id": "8570de30",
   "metadata": {},
   "source": [
    "### Reporte EDA"
   ]
  },
  {
   "cell_type": "code",
   "execution_count": null,
   "id": "8042c491",
   "metadata": {},
   "outputs": [],
   "source": [
    "#IMPORTS\n",
    "import pandas as pd \n",
    "import seaborn as sns \n",
    "import numpy as np\n",
    "from sklearn.preprocessing import StandardScaler, PowerTransformer, RobustScaler\n",
    "import matplotlib.pyplot as plt\n",
    "from sklearn.metrics import silhouette_samples, silhouette_score\n",
    "from matplotlib import cm\n",
    "from sklearn.cluster import KMeans\n",
    "from sklearn.preprocessing import LabelEncoder\n",
    "import re\n",
    "import urllib\n",
    "from matplotlib import image as mpimg\n"
   ]
  },
  {
   "cell_type": "code",
   "execution_count": 7,
   "id": "0372fb76",
   "metadata": {},
   "outputs": [],
   "source": [
    "# carga datasets\n",
    "customers_dataset = pd.read_csv('dataset/olist_customers_dataset.csv')\n",
    "geolocation_dataset = pd.read_csv('dataset/olist_geolocation_dataset.csv')\n",
    "order_items_dataset = pd.read_csv('dataset/olist_order_items_dataset.csv')\n",
    "order_payments_dataset = pd.read_csv('dataset/olist_order_payments_dataset.csv')\n",
    "order_reviews_dataset = pd.read_csv('dataset/olist_order_reviews_dataset.csv')\n",
    "orders_dataset = pd.read_csv('dataset/olist_orders_dataset.csv')\n",
    "products_dataset = pd.read_csv('dataset/olist_products_dataset.csv')\n",
    "sellers_dataset = pd.read_csv('dataset/olist_sellers_dataset.csv')\n"
   ]
  },
  {
   "cell_type": "code",
   "execution_count": null,
   "id": "eed7f052",
   "metadata": {},
   "outputs": [
    {
     "name": "stdout",
     "output_type": "stream",
     "text": [
      "Customers Dataset:  (99441, 5)\n",
      "Geolocation Dataset:  (1000163, 5)\n",
      "Order Items Dataset:  (112650, 7)\n",
      "Order Payments Dataset:  (103886, 5)\n",
      "Order Reviews Dataset:  (99224, 7)\n",
      "Orders Dataset:  (99441, 8)\n",
      "Products Dataset:  (32951, 9)\n",
      "Sellers Dataset:  (3095, 4)\n"
     ]
    }
   ],
   "source": [
    "# entradas y columnaas\n",
    "print(\"Customers Dataset: \", customers_dataset.shape)\n",
    "print(\"Geolocation Dataset: \", geolocation_dataset.shape)\n",
    "print(\"Order Items Dataset: \", order_items_dataset.shape)\n",
    "print(\"Order Payments Dataset: \", order_payments_dataset.shape)\n",
    "print(\"Order Reviews Dataset: \", order_reviews_dataset.shape)\n",
    "print(\"Orders Dataset: \", orders_dataset.shape)\n",
    "print(\"Products Dataset: \", products_dataset.shape)\n",
    "print(\"Sellers Dataset: \", sellers_dataset.shape)"
   ]
  },
  {
   "cell_type": "markdown",
   "id": "e764dd69",
   "metadata": {},
   "source": [
    "### Evaluación de calidad de datos"
   ]
  },
  {
   "cell_type": "code",
   "execution_count": null,
   "id": "4a1d6afc",
   "metadata": {},
   "outputs": [],
   "source": [
    "###"
   ]
  },
  {
   "cell_type": "markdown",
   "id": "ba3bb268",
   "metadata": {},
   "source": [
    "### Resúmenes estadísticos"
   ]
  },
  {
   "cell_type": "code",
   "execution_count": null,
   "id": "6b76428d",
   "metadata": {},
   "outputs": [],
   "source": [
    "###"
   ]
  },
  {
   "cell_type": "markdown",
   "id": "b73f18d4",
   "metadata": {},
   "source": [
    "### Visualización de patrones clave"
   ]
  },
  {
   "cell_type": "code",
   "execution_count": null,
   "id": "fcd7424b",
   "metadata": {},
   "outputs": [],
   "source": [
    "###"
   ]
  },
  {
   "cell_type": "markdown",
   "id": "9a032da4",
   "metadata": {},
   "source": [
    "### Análisis de correlación de características"
   ]
  },
  {
   "cell_type": "code",
   "execution_count": null,
   "id": "9fee6df0",
   "metadata": {},
   "outputs": [],
   "source": [
    "###"
   ]
  }
 ],
 "metadata": {
  "kernelspec": {
   "display_name": "Python 3",
   "language": "python",
   "name": "python3"
  },
  "language_info": {
   "codemirror_mode": {
    "name": "ipython",
    "version": 3
   },
   "file_extension": ".py",
   "mimetype": "text/x-python",
   "name": "python",
   "nbconvert_exporter": "python",
   "pygments_lexer": "ipython3",
   "version": "3.12.2"
  }
 },
 "nbformat": 4,
 "nbformat_minor": 5
}

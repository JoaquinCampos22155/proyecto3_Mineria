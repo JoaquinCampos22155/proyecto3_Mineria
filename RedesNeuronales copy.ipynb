{
  "cells": [
    {
      "cell_type": "markdown",
      "metadata": {
        "id": "rGW9xeHVCbqW"
      },
      "source": [
        "# Redes Neuronales"
      ]
    },
    {
      "cell_type": "code",
      "execution_count": 5,
      "metadata": {
        "id": "ADrHCzHTCeXb"
      },
      "outputs": [],
      "source": [
        "%matplotlib inline\n",
        "import matplotlib.pyplot as plt\n",
        "import numpy as np\n",
        "import random\n",
        "import statsmodels.api as sm\n",
        "import statsmodels.stats.diagnostic as smd\n",
        "import pandas as pd\n",
        "from sklearn import datasets\n",
        "from sklearn.model_selection import train_test_split, KFold, cross_val_score\n",
        "import seaborn as sns\n",
        "import statsmodels.api as sm\n",
        "import scipy.stats as stats\n",
        "import statsmodels.stats.diagnostic as diag\n",
        "from sklearn.preprocessing import StandardScaler\n",
        "from sklearn.neural_network import MLPClassifier\n",
        "\n",
        "from sklearn.compose import make_column_selector as selector #Para seleccionar de forma automática las variables numéricas y categóricas\n",
        "from sklearn.preprocessing import OneHotEncoder #Para codificar las variables categóricas usando dummies\n",
        "from sklearn.preprocessing import StandardScaler #Para normalizar las variables numéricas\n",
        "from sklearn.compose import ColumnTransformer #Modifica las columnas usando los preprocesadores\n",
        "from sklearn.pipeline import Pipeline, make_pipeline #Planifica una secuencia de procesos\n",
        "from sklearn import set_config #Para mostrar graficamente el pipeline\n",
        "from sklearn.model_selection import GridSearchCV\n",
        "\n",
        "set_config(display='diagram')\n",
        "#Metrics\n",
        "from sklearn.metrics import make_scorer, accuracy_score,precision_score\n",
        "from sklearn.metrics import classification_report\n",
        "from sklearn.metrics import confusion_matrix\n",
        "from sklearn.metrics import accuracy_score ,precision_score,recall_score,f1_score\n",
        "import time"
      ]
    },
    {
      "cell_type": "code",
      "execution_count": 6,
      "metadata": {
        "id": "-vvJfhkrLjsY"
      },
      "outputs": [],
      "source": [
        "# Abrir CSV\n",
        "df2 = pd.read_csv('dataset/cleaned_orders.csv')\n",
        "df2['delivery_delayed'] =  df2['delivery_delayed'].astype(int)\n",
        "df2['different_state'] = df2['different_state'].astype(int)\n",
        "\n",
        "# Eliminar algunas variables respuesta de otros modelos\n",
        "df2.drop(columns=['has_comment', 'has_title'], inplace=True)\n",
        "df2 = df2.dropna()"
      ]
    },
    {
      "cell_type": "code",
      "execution_count": 7,
      "metadata": {
        "colab": {
          "base_uri": "https://localhost:8080/"
        },
        "id": "oIyZ8UdAClb_",
        "outputId": "f9562a01-4dc4-4cff-e2af-effdceb2abbc"
      },
      "outputs": [
        {
          "name": "stdout",
          "output_type": "stream",
          "text": [
            "(94528, 71)\n",
            "Index(['estimated_delivery_days', 'delivery_days', 'delivery_delta',\n",
            "       'delivery_delayed', 'avg_product_price', 'total_order_price',\n",
            "       'item_count', 'order_freight_value', 'avg_product_weight',\n",
            "       'total_order_weight_g', 'avg_product_volume_cm3',\n",
            "       'total_order_volume_cm3', 'freight_to_price', 'shipping_distance_km',\n",
            "       'different_state', 'payment_installments', 'split_payments',\n",
            "       'review_score', 'seller_state_AM', 'seller_state_BA', 'seller_state_CE',\n",
            "       'seller_state_DF', 'seller_state_ES', 'seller_state_GO',\n",
            "       'seller_state_MA', 'seller_state_MG', 'seller_state_MS',\n",
            "       'seller_state_MT', 'seller_state_PA', 'seller_state_PB',\n",
            "       'seller_state_PE', 'seller_state_PI', 'seller_state_PR',\n",
            "       'seller_state_RJ', 'seller_state_RN', 'seller_state_RO',\n",
            "       'seller_state_RS', 'seller_state_SC', 'seller_state_SE',\n",
            "       'seller_state_SP', 'customer_state_AC', 'customer_state_AL',\n",
            "       'customer_state_AM', 'customer_state_AP', 'customer_state_BA',\n",
            "       'customer_state_CE', 'customer_state_DF', 'customer_state_ES',\n",
            "       'customer_state_GO', 'customer_state_MA', 'customer_state_MG',\n",
            "       'customer_state_MS', 'customer_state_MT', 'customer_state_PA',\n",
            "       'customer_state_PB', 'customer_state_PE', 'customer_state_PI',\n",
            "       'customer_state_PR', 'customer_state_RJ', 'customer_state_RN',\n",
            "       'customer_state_RO', 'customer_state_RR', 'customer_state_RS',\n",
            "       'customer_state_SC', 'customer_state_SE', 'customer_state_SP',\n",
            "       'customer_state_TO', 'payment_type_boleto', 'payment_type_credit_card',\n",
            "       'payment_type_debit_card', 'payment_type_voucher'],\n",
            "      dtype='object')\n"
          ]
        }
      ],
      "source": [
        "print(df2.shape)\n",
        "print(df2.columns)"
      ]
    },
    {
      "cell_type": "code",
      "execution_count": 8,
      "metadata": {
        "id": "S7MRICahL1rG"
      },
      "outputs": [],
      "source": [
        "#la variable respuesta\n",
        "target = df2.pop('review_score')"
      ]
    },
    {
      "cell_type": "code",
      "execution_count": 9,
      "metadata": {
        "colab": {
          "base_uri": "https://localhost:8080/"
        },
        "id": "dCIdt5leH8GL",
        "outputId": "80d569a9-4d7b-4890-a99e-d820b36d6a33"
      },
      "outputs": [
        {
          "name": "stdout",
          "output_type": "stream",
          "text": [
            "Numéricas:  ['estimated_delivery_days', 'delivery_days', 'delivery_delta', 'delivery_delayed', 'avg_product_price', 'total_order_price', 'item_count', 'order_freight_value', 'avg_product_weight', 'total_order_weight_g', 'avg_product_volume_cm3', 'total_order_volume_cm3', 'freight_to_price', 'shipping_distance_km', 'different_state', 'payment_installments', 'split_payments', 'seller_state_AM', 'seller_state_BA', 'seller_state_CE', 'seller_state_DF', 'seller_state_ES', 'seller_state_GO', 'seller_state_MA', 'seller_state_MG', 'seller_state_MS', 'seller_state_MT', 'seller_state_PA', 'seller_state_PB', 'seller_state_PE', 'seller_state_PI', 'seller_state_PR', 'seller_state_RJ', 'seller_state_RN', 'seller_state_RO', 'seller_state_RS', 'seller_state_SC', 'seller_state_SE', 'seller_state_SP', 'customer_state_AC', 'customer_state_AL', 'customer_state_AM', 'customer_state_AP', 'customer_state_BA', 'customer_state_CE', 'customer_state_DF', 'customer_state_ES', 'customer_state_GO', 'customer_state_MA', 'customer_state_MG', 'customer_state_MS', 'customer_state_MT', 'customer_state_PA', 'customer_state_PB', 'customer_state_PE', 'customer_state_PI', 'customer_state_PR', 'customer_state_RJ', 'customer_state_RN', 'customer_state_RO', 'customer_state_RR', 'customer_state_RS', 'customer_state_SC', 'customer_state_SE', 'customer_state_SP', 'customer_state_TO', 'payment_type_boleto', 'payment_type_credit_card', 'payment_type_debit_card', 'payment_type_voucher']\n",
            "Categóricas:  []\n"
          ]
        }
      ],
      "source": [
        "#Creamos los selectores\n",
        "selector_numericas = selector(dtype_exclude=object) #Seleccionamos todas las variables que no son Object\n",
        "selector_categoricas = selector(dtype_include=object) #Seleccionamos todas las varibles de tipo object\n",
        "#Seleccionamos las columnas que cumplen con los selectores pasándole los datos\n",
        "numericas = selector_numericas(df2)\n",
        "categoricas = selector_categoricas(df2)\n",
        "#veamos que tan bien separó las variables\n",
        "print(\"Numéricas: \",numericas)\n",
        "print(\"Categóricas: \", categoricas)"
      ]
    },
    {
      "cell_type": "code",
      "execution_count": null,
      "metadata": {
        "id": "T8rZ_PKDIBHW"
      },
      "outputs": [],
      "source": [
        "numeric_transformer  = StandardScaler()\n",
        "# Preprocesador categórico para variables categóricas\n",
        "# Pero como no tenemos variables categóricas, lo dejamos como None\n",
        "categorical_transformer = OneHotEncoder(handle_unknown='ignore') if categoricas else None"
      ]
    },
    {
      "cell_type": "code",
      "execution_count": 11,
      "metadata": {
        "id": "A-rT6nV7IEVK"
      },
      "outputs": [],
      "source": [
        "# Preprocesador combinado\n",
        "if categoricas:\n",
        "    preprocessor = ColumnTransformer([\n",
        "        ('num', numeric_transformer, numericas),\n",
        "        ('cat', categorical_transformer, categoricas)\n",
        "    ])\n",
        "else:\n",
        "    preprocessor = ColumnTransformer([\n",
        "        ('num', numeric_transformer, numericas)\n",
        "    ])\n"
      ]
    },
    {
      "cell_type": "code",
      "execution_count": 12,
      "metadata": {
        "colab": {
          "base_uri": "https://localhost:8080/",
          "height": 265
        },
        "id": "3jppz4GkILRr",
        "outputId": "13fc0ca6-1573-4473-b504-e2d09912c9dd"
      },
      "outputs": [
        {
          "name": "stdout",
          "output_type": "stream",
          "text": [
            "Dimensiones train: (66169, 70)\n",
            "Dimensiones test: (28359, 70)\n"
          ]
        }
      ],
      "source": [
        "# División de datos\n",
        "X_train, X_test, y_train, y_test = train_test_split(df2, target, train_size=0.7, test_size=0.3, random_state=42)\n",
        "print(f\"Dimensiones train: {X_train.shape}\")\n",
        "print(f\"Dimensiones test: {X_test.shape}\")\n"
      ]
    },
    {
      "cell_type": "markdown",
      "metadata": {},
      "source": [
        "### IMPLEMENTACIÓN DE REDES NEURONALES BÁSICAS"
      ]
    },
    {
      "cell_type": "code",
      "execution_count": null,
      "metadata": {},
      "outputs": [],
      "source": [
        "# Función para evaluar modelo de clasificación\n",
        "def evaluate_classifier(y_true, y_pred):\n",
        "    cm = confusion_matrix(y_true, y_pred)\n",
        "    accuracy = accuracy_score(y_true, y_pred)\n",
        "    precision = precision_score(y_true, y_pred, average='weighted')\n",
        "    recall = recall_score(y_true, y_pred, average='weighted')\n",
        "    f1 = f1_score(y_true, y_pred, average='weighted')\n",
        "    \n",
        "    print('\\nMatriz de confusión:\\n', cm)\n",
        "    print('Accuracy:', accuracy)\n",
        "    print('Precision:', precision)\n",
        "    print('Recall:', recall)\n",
        "    print('F1-score:', f1)\n",
        "    \n",
        "    return {\n",
        "        'accuracy': accuracy,\n",
        "        'precision': precision,\n",
        "        'recall': recall,\n",
        "        'f1': f1\n",
        "    }\n"
      ]
    },
    {
      "cell_type": "markdown",
      "metadata": {},
      "source": [
        "####  Modelo Básico sin Cross-Validation"
      ]
    },
    {
      "cell_type": "code",
      "execution_count": null,
      "metadata": {
        "colab": {
          "base_uri": "https://localhost:8080/",
          "height": 495
        },
        "id": "544kRONiIT9G",
        "outputId": "ecc56db7-d84c-4033-a400-05b11613162d"
      },
      "outputs": [],
      "source": [
        "# Configuración de red neuronal inicial\n",
        "basic_mlp = MLPClassifier(\n",
        "    hidden_layer_sizes=(10, 5), # DOs capas ocultas con 10 y 5 neuronas respectivamente\n",
        "    activation='relu', \n",
        "    solver='adam', # Optimizador\n",
        "    alpha=0.0001, #   Regularización (evita overfitting)\n",
        "    max_iter=300, # Máximo de iteraciones (épocas)\n",
        "    random_state=42, \n",
        "    verbose=True\n",
        ")\n"
      ]
    },
    {
      "cell_type": "code",
      "execution_count": null,
      "metadata": {},
      "outputs": [],
      "source": [
        "# Pipeline para el modelo básico\n",
        "basic_pipeline = Pipeline([\n",
        "    ('preprocessor', preprocessor), # Primero transformamos los datos\n",
        "    # Luego aplicamos la red neuronal\n",
        "    ('classifier', basic_mlp)\n",
        "])"
      ]
    },
    {
      "cell_type": "code",
      "execution_count": 16,
      "metadata": {
        "colab": {
          "base_uri": "https://localhost:8080/",
          "height": 1000
        },
        "id": "MjYJCZ1CMxiG",
        "outputId": "06ecdebe-93b2-4354-e525-ba86d38c2f8b"
      },
      "outputs": [
        {
          "name": "stdout",
          "output_type": "stream",
          "text": [
            "Iteration 1, loss = 1.37647953\n",
            "Iteration 2, loss = 1.12008767\n",
            "Iteration 3, loss = 1.10525572\n",
            "Iteration 4, loss = 1.09917412\n",
            "Iteration 5, loss = 1.09551257\n",
            "Iteration 6, loss = 1.09338906\n",
            "Iteration 7, loss = 1.09161132\n",
            "Iteration 8, loss = 1.09033036\n",
            "Iteration 9, loss = 1.08948163\n",
            "Iteration 10, loss = 1.08891006\n",
            "Iteration 11, loss = 1.08832829\n",
            "Iteration 12, loss = 1.08769306\n",
            "Iteration 13, loss = 1.08693119\n",
            "Iteration 14, loss = 1.08682927\n",
            "Iteration 15, loss = 1.08615307\n",
            "Iteration 16, loss = 1.08598318\n",
            "Iteration 17, loss = 1.08563467\n",
            "Iteration 18, loss = 1.08521402\n",
            "Iteration 19, loss = 1.08483833\n",
            "Iteration 20, loss = 1.08448694\n",
            "Iteration 21, loss = 1.08435953\n",
            "Iteration 22, loss = 1.08417287\n",
            "Iteration 23, loss = 1.08393025\n",
            "Iteration 24, loss = 1.08372066\n",
            "Iteration 25, loss = 1.08351227\n",
            "Iteration 26, loss = 1.08333215\n",
            "Iteration 27, loss = 1.08319193\n",
            "Iteration 28, loss = 1.08319641\n",
            "Iteration 29, loss = 1.08289348\n",
            "Iteration 30, loss = 1.08271889\n",
            "Iteration 31, loss = 1.08263027\n",
            "Iteration 32, loss = 1.08245091\n",
            "Iteration 33, loss = 1.08230082\n",
            "Iteration 34, loss = 1.08229493\n",
            "Iteration 35, loss = 1.08211290\n",
            "Iteration 36, loss = 1.08189470\n",
            "Iteration 37, loss = 1.08183240\n",
            "Iteration 38, loss = 1.08166739\n",
            "Iteration 39, loss = 1.08170495\n",
            "Iteration 40, loss = 1.08170167\n",
            "Iteration 41, loss = 1.08133557\n",
            "Iteration 42, loss = 1.08115596\n",
            "Iteration 43, loss = 1.08129833\n",
            "Iteration 44, loss = 1.08107657\n",
            "Iteration 45, loss = 1.08094779\n",
            "Iteration 46, loss = 1.08093509\n",
            "Iteration 47, loss = 1.08084472\n",
            "Iteration 48, loss = 1.08065809\n",
            "Iteration 49, loss = 1.08062067\n",
            "Iteration 50, loss = 1.08070703\n",
            "Iteration 51, loss = 1.08050224\n",
            "Iteration 52, loss = 1.08031998\n",
            "Iteration 53, loss = 1.08025373\n",
            "Iteration 54, loss = 1.08032609\n",
            "Iteration 55, loss = 1.08021106\n",
            "Iteration 56, loss = 1.08015051\n",
            "Iteration 57, loss = 1.08002368\n",
            "Iteration 58, loss = 1.07990746\n",
            "Iteration 59, loss = 1.07981371\n",
            "Iteration 60, loss = 1.07993783\n",
            "Iteration 61, loss = 1.07980870\n",
            "Iteration 62, loss = 1.07977355\n",
            "Iteration 63, loss = 1.07967264\n",
            "Iteration 64, loss = 1.07967472\n",
            "Iteration 65, loss = 1.07955278\n",
            "Iteration 66, loss = 1.07961508\n",
            "Iteration 67, loss = 1.07931643\n",
            "Iteration 68, loss = 1.07947506\n",
            "Iteration 69, loss = 1.07943460\n",
            "Iteration 70, loss = 1.07923626\n",
            "Iteration 71, loss = 1.07933956\n",
            "Iteration 72, loss = 1.07922784\n",
            "Iteration 73, loss = 1.07926471\n",
            "Iteration 74, loss = 1.07914192\n",
            "Iteration 75, loss = 1.07919296\n",
            "Iteration 76, loss = 1.07895411\n",
            "Iteration 77, loss = 1.07893162\n",
            "Iteration 78, loss = 1.07889822\n",
            "Iteration 79, loss = 1.07900461\n",
            "Iteration 80, loss = 1.07891054\n",
            "Iteration 81, loss = 1.07889000\n",
            "Iteration 82, loss = 1.07870414\n",
            "Iteration 83, loss = 1.07872609\n",
            "Iteration 84, loss = 1.07864816\n",
            "Iteration 85, loss = 1.07872908\n",
            "Iteration 86, loss = 1.07860586\n",
            "Iteration 87, loss = 1.07862824\n",
            "Iteration 88, loss = 1.07851938\n",
            "Iteration 89, loss = 1.07845889\n",
            "Iteration 90, loss = 1.07848363\n",
            "Iteration 91, loss = 1.07835851\n",
            "Iteration 92, loss = 1.07833691\n",
            "Iteration 93, loss = 1.07824857\n",
            "Iteration 94, loss = 1.07821109\n",
            "Iteration 95, loss = 1.07831263\n",
            "Iteration 96, loss = 1.07818963\n",
            "Iteration 97, loss = 1.07822695\n",
            "Iteration 98, loss = 1.07815379\n",
            "Iteration 99, loss = 1.07819838\n",
            "Iteration 100, loss = 1.07798686\n",
            "Iteration 101, loss = 1.07811924\n",
            "Iteration 102, loss = 1.07801970\n",
            "Iteration 103, loss = 1.07804210\n",
            "Iteration 104, loss = 1.07799185\n",
            "Iteration 105, loss = 1.07788984\n",
            "Iteration 106, loss = 1.07788955\n",
            "Iteration 107, loss = 1.07784185\n",
            "Iteration 108, loss = 1.07790986\n",
            "Iteration 109, loss = 1.07790914\n",
            "Iteration 110, loss = 1.07787140\n",
            "Iteration 111, loss = 1.07780473\n",
            "Training loss did not improve more than tol=0.000100 for 10 consecutive epochs. Stopping.\n",
            "Tiempo de entrenamiento: 10.72 segundos\n"
          ]
        }
      ],
      "source": [
        "# Entrenar modelo básico\n",
        "start_time = time.time()\n",
        "basic_pipeline.fit(X_train, y_train)\n",
        "training_time = time.time() - start_time\n",
        "print(f\"Tiempo de entrenamiento: {training_time:.2f} segundos\")"
      ]
    },
    {
      "cell_type": "code",
      "execution_count": 17,
      "metadata": {
        "colab": {
          "base_uri": "https://localhost:8080/"
        },
        "id": "oOKCfE_cNM-q",
        "outputId": "088e4b14-6c9b-4ccb-dd4b-fdb6006495d2"
      },
      "outputs": [
        {
          "name": "stdout",
          "output_type": "stream",
          "text": [
            "\n",
            "Matriz de confusión:\n",
            " [[  982     0     0     2  1791]\n",
            " [  146     0     0     1   706]\n",
            " [  159     0     0     0  2163]\n",
            " [  115     0     0     1  5523]\n",
            " [  213     0     0     3 16554]]\n",
            "Accuracy: 0.618392750096971\n",
            "Precision: 0.4540329506290808\n",
            "Recall: 0.618392750096971\n",
            "F1-score: 0.4938513130476938\n"
          ]
        },
        {
          "name": "stderr",
          "output_type": "stream",
          "text": [
            "c:\\Users\\diego\\AppData\\Local\\Programs\\Python\\Python313\\Lib\\site-packages\\sklearn\\metrics\\_classification.py:1565: UndefinedMetricWarning: Precision is ill-defined and being set to 0.0 in labels with no predicted samples. Use `zero_division` parameter to control this behavior.\n",
            "  _warn_prf(average, modifier, f\"{metric.capitalize()} is\", len(result))\n"
          ]
        }
      ],
      "source": [
        "# Evaluar modelo básico\n",
        "y_pred_basic = basic_pipeline.predict(X_test)\n",
        "basic_metrics = evaluate_classifier(y_test, y_pred_basic)"
      ]
    },
    {
      "cell_type": "markdown",
      "metadata": {},
      "source": [
        "#### Validación Cruzada"
      ]
    },
    {
      "cell_type": "code",
      "execution_count": 18,
      "metadata": {
        "colab": {
          "base_uri": "https://localhost:8080/"
        },
        "id": "_oPYS-dsNSMn",
        "outputId": "b1500aba-61d5-4e32-d65e-9955f37685f5"
      },
      "outputs": [],
      "source": [
        "# Configuración de la validación cruzada\n",
        "k_folds = 5\n",
        "kf = KFold(n_splits=k_folds, shuffle=True, random_state=42)\n"
      ]
    },
    {
      "cell_type": "code",
      "execution_count": null,
      "metadata": {
        "colab": {
          "base_uri": "https://localhost:8080/"
        },
        "id": "n6uG1-es65g-",
        "outputId": "87dac644-a7a3-40cc-beea-9ef3f31e80bd"
      },
      "outputs": [],
      "source": [
        "# Pipeline para cross-validation\n",
        "cv_mlp = MLPClassifier( # MLP = Multi-Layer Perceptron\n",
        "    hidden_layer_sizes=(10, 5),\n",
        "    activation='relu',\n",
        "    solver='adam',\n",
        "    alpha=0.0001,\n",
        "    max_iter=300,\n",
        "    random_state=42,\n",
        "    verbose=False\n",
        ")\n",
        "\n",
        "cv_pipeline = Pipeline([\n",
        "    ('preprocessor', preprocessor),\n",
        "    ('classifier', cv_mlp)\n",
        "])"
      ]
    },
    {
      "cell_type": "code",
      "execution_count": 20,
      "metadata": {},
      "outputs": [
        {
          "name": "stdout",
          "output_type": "stream",
          "text": [
            "\n",
            "Realizando validación cruzada con 5 folds...\n",
            "Puntuaciones CV: [0.61906273 0.62059664 0.62027928 0.61586882 0.61951865]\n",
            "Accuracy promedio: 0.6191 (±0.0017)\n"
          ]
        }
      ],
      "source": [
        "# Realizar validación cruzada\n",
        "print(f\"\\nRealizando validación cruzada con {k_folds} folds...\")\n",
        "cv_scores = cross_val_score(cv_pipeline, df2, target, cv=kf, scoring='accuracy')\n",
        "print(f\"Puntuaciones CV: {cv_scores}\")\n",
        "print(f\"Accuracy promedio: {cv_scores.mean():.4f} (±{cv_scores.std():.4f})\")"
      ]
    },
    {
      "cell_type": "markdown",
      "metadata": {},
      "source": [
        "#### Búsqueda de Hiperparámetros con Grid Search"
      ]
    },
    {
      "cell_type": "code",
      "execution_count": 21,
      "metadata": {
        "colab": {
          "base_uri": "https://localhost:8080/",
          "height": 905
        },
        "id": "ZvP_NUow65g-",
        "outputId": "21f319ea-09d5-4a54-e207-8ba581bcab82"
      },
      "outputs": [],
      "source": [
        "# Definir parámetros a evaluar\n",
        "param_grid = {\n",
        "    'classifier__hidden_layer_sizes': [(10,), (20,), (10, 5), (20, 10), (15, 10, 5)],\n",
        "    'classifier__activation': ['relu', 'tanh', 'logistic'],\n",
        "    'classifier__alpha': [0.0001, 0.001, 0.01],\n",
        "    'classifier__learning_rate_init': [0.001, 0.01, 0.1]\n",
        "}\n"
      ]
    },
    {
      "cell_type": "markdown",
      "metadata": {
        "id": "pslzCBRy65g-"
      },
      "source": [
        "¿Cuál será la mejor combinación de parámetros?\n"
      ]
    },
    {
      "cell_type": "code",
      "execution_count": 22,
      "metadata": {
        "colab": {
          "base_uri": "https://localhost:8080/"
        },
        "id": "ftKYhYdb65g-",
        "outputId": "e6380b0a-bb38-49cb-aa0f-730122458382"
      },
      "outputs": [],
      "source": [
        "# Crear pipeline para Grid Search\n",
        "gs_pipeline = Pipeline([\n",
        "    ('preprocessor', preprocessor),\n",
        "    ('classifier', MLPClassifier(max_iter=300, random_state=42, verbose=False))\n",
        "])"
      ]
    },
    {
      "cell_type": "code",
      "execution_count": null,
      "metadata": {},
      "outputs": [
        {
          "name": "stdout",
          "output_type": "stream",
          "text": [
            "\n",
            "Realizando búsqueda de hiperparámetros (puede tardar varios minutos)...\n",
            "Fitting 3 folds for each of 135 candidates, totalling 405 fits\n"
          ]
        },
        {
          "data": {
            "text/html": [
              "<style>#sk-container-id-1 {\n",
              "  /* Definition of color scheme common for light and dark mode */\n",
              "  --sklearn-color-text: #000;\n",
              "  --sklearn-color-text-muted: #666;\n",
              "  --sklearn-color-line: gray;\n",
              "  /* Definition of color scheme for unfitted estimators */\n",
              "  --sklearn-color-unfitted-level-0: #fff5e6;\n",
              "  --sklearn-color-unfitted-level-1: #f6e4d2;\n",
              "  --sklearn-color-unfitted-level-2: #ffe0b3;\n",
              "  --sklearn-color-unfitted-level-3: chocolate;\n",
              "  /* Definition of color scheme for fitted estimators */\n",
              "  --sklearn-color-fitted-level-0: #f0f8ff;\n",
              "  --sklearn-color-fitted-level-1: #d4ebff;\n",
              "  --sklearn-color-fitted-level-2: #b3dbfd;\n",
              "  --sklearn-color-fitted-level-3: cornflowerblue;\n",
              "\n",
              "  /* Specific color for light theme */\n",
              "  --sklearn-color-text-on-default-background: var(--sg-text-color, var(--theme-code-foreground, var(--jp-content-font-color1, black)));\n",
              "  --sklearn-color-background: var(--sg-background-color, var(--theme-background, var(--jp-layout-color0, white)));\n",
              "  --sklearn-color-border-box: var(--sg-text-color, var(--theme-code-foreground, var(--jp-content-font-color1, black)));\n",
              "  --sklearn-color-icon: #696969;\n",
              "\n",
              "  @media (prefers-color-scheme: dark) {\n",
              "    /* Redefinition of color scheme for dark theme */\n",
              "    --sklearn-color-text-on-default-background: var(--sg-text-color, var(--theme-code-foreground, var(--jp-content-font-color1, white)));\n",
              "    --sklearn-color-background: var(--sg-background-color, var(--theme-background, var(--jp-layout-color0, #111)));\n",
              "    --sklearn-color-border-box: var(--sg-text-color, var(--theme-code-foreground, var(--jp-content-font-color1, white)));\n",
              "    --sklearn-color-icon: #878787;\n",
              "  }\n",
              "}\n",
              "\n",
              "#sk-container-id-1 {\n",
              "  color: var(--sklearn-color-text);\n",
              "}\n",
              "\n",
              "#sk-container-id-1 pre {\n",
              "  padding: 0;\n",
              "}\n",
              "\n",
              "#sk-container-id-1 input.sk-hidden--visually {\n",
              "  border: 0;\n",
              "  clip: rect(1px 1px 1px 1px);\n",
              "  clip: rect(1px, 1px, 1px, 1px);\n",
              "  height: 1px;\n",
              "  margin: -1px;\n",
              "  overflow: hidden;\n",
              "  padding: 0;\n",
              "  position: absolute;\n",
              "  width: 1px;\n",
              "}\n",
              "\n",
              "#sk-container-id-1 div.sk-dashed-wrapped {\n",
              "  border: 1px dashed var(--sklearn-color-line);\n",
              "  margin: 0 0.4em 0.5em 0.4em;\n",
              "  box-sizing: border-box;\n",
              "  padding-bottom: 0.4em;\n",
              "  background-color: var(--sklearn-color-background);\n",
              "}\n",
              "\n",
              "#sk-container-id-1 div.sk-container {\n",
              "  /* jupyter's `normalize.less` sets `[hidden] { display: none; }`\n",
              "     but bootstrap.min.css set `[hidden] { display: none !important; }`\n",
              "     so we also need the `!important` here to be able to override the\n",
              "     default hidden behavior on the sphinx rendered scikit-learn.org.\n",
              "     See: https://github.com/scikit-learn/scikit-learn/issues/21755 */\n",
              "  display: inline-block !important;\n",
              "  position: relative;\n",
              "}\n",
              "\n",
              "#sk-container-id-1 div.sk-text-repr-fallback {\n",
              "  display: none;\n",
              "}\n",
              "\n",
              "div.sk-parallel-item,\n",
              "div.sk-serial,\n",
              "div.sk-item {\n",
              "  /* draw centered vertical line to link estimators */\n",
              "  background-image: linear-gradient(var(--sklearn-color-text-on-default-background), var(--sklearn-color-text-on-default-background));\n",
              "  background-size: 2px 100%;\n",
              "  background-repeat: no-repeat;\n",
              "  background-position: center center;\n",
              "}\n",
              "\n",
              "/* Parallel-specific style estimator block */\n",
              "\n",
              "#sk-container-id-1 div.sk-parallel-item::after {\n",
              "  content: \"\";\n",
              "  width: 100%;\n",
              "  border-bottom: 2px solid var(--sklearn-color-text-on-default-background);\n",
              "  flex-grow: 1;\n",
              "}\n",
              "\n",
              "#sk-container-id-1 div.sk-parallel {\n",
              "  display: flex;\n",
              "  align-items: stretch;\n",
              "  justify-content: center;\n",
              "  background-color: var(--sklearn-color-background);\n",
              "  position: relative;\n",
              "}\n",
              "\n",
              "#sk-container-id-1 div.sk-parallel-item {\n",
              "  display: flex;\n",
              "  flex-direction: column;\n",
              "}\n",
              "\n",
              "#sk-container-id-1 div.sk-parallel-item:first-child::after {\n",
              "  align-self: flex-end;\n",
              "  width: 50%;\n",
              "}\n",
              "\n",
              "#sk-container-id-1 div.sk-parallel-item:last-child::after {\n",
              "  align-self: flex-start;\n",
              "  width: 50%;\n",
              "}\n",
              "\n",
              "#sk-container-id-1 div.sk-parallel-item:only-child::after {\n",
              "  width: 0;\n",
              "}\n",
              "\n",
              "/* Serial-specific style estimator block */\n",
              "\n",
              "#sk-container-id-1 div.sk-serial {\n",
              "  display: flex;\n",
              "  flex-direction: column;\n",
              "  align-items: center;\n",
              "  background-color: var(--sklearn-color-background);\n",
              "  padding-right: 1em;\n",
              "  padding-left: 1em;\n",
              "}\n",
              "\n",
              "\n",
              "/* Toggleable style: style used for estimator/Pipeline/ColumnTransformer box that is\n",
              "clickable and can be expanded/collapsed.\n",
              "- Pipeline and ColumnTransformer use this feature and define the default style\n",
              "- Estimators will overwrite some part of the style using the `sk-estimator` class\n",
              "*/\n",
              "\n",
              "/* Pipeline and ColumnTransformer style (default) */\n",
              "\n",
              "#sk-container-id-1 div.sk-toggleable {\n",
              "  /* Default theme specific background. It is overwritten whether we have a\n",
              "  specific estimator or a Pipeline/ColumnTransformer */\n",
              "  background-color: var(--sklearn-color-background);\n",
              "}\n",
              "\n",
              "/* Toggleable label */\n",
              "#sk-container-id-1 label.sk-toggleable__label {\n",
              "  cursor: pointer;\n",
              "  display: flex;\n",
              "  width: 100%;\n",
              "  margin-bottom: 0;\n",
              "  padding: 0.5em;\n",
              "  box-sizing: border-box;\n",
              "  text-align: center;\n",
              "  align-items: start;\n",
              "  justify-content: space-between;\n",
              "  gap: 0.5em;\n",
              "}\n",
              "\n",
              "#sk-container-id-1 label.sk-toggleable__label .caption {\n",
              "  font-size: 0.6rem;\n",
              "  font-weight: lighter;\n",
              "  color: var(--sklearn-color-text-muted);\n",
              "}\n",
              "\n",
              "#sk-container-id-1 label.sk-toggleable__label-arrow:before {\n",
              "  /* Arrow on the left of the label */\n",
              "  content: \"▸\";\n",
              "  float: left;\n",
              "  margin-right: 0.25em;\n",
              "  color: var(--sklearn-color-icon);\n",
              "}\n",
              "\n",
              "#sk-container-id-1 label.sk-toggleable__label-arrow:hover:before {\n",
              "  color: var(--sklearn-color-text);\n",
              "}\n",
              "\n",
              "/* Toggleable content - dropdown */\n",
              "\n",
              "#sk-container-id-1 div.sk-toggleable__content {\n",
              "  max-height: 0;\n",
              "  max-width: 0;\n",
              "  overflow: hidden;\n",
              "  text-align: left;\n",
              "  /* unfitted */\n",
              "  background-color: var(--sklearn-color-unfitted-level-0);\n",
              "}\n",
              "\n",
              "#sk-container-id-1 div.sk-toggleable__content.fitted {\n",
              "  /* fitted */\n",
              "  background-color: var(--sklearn-color-fitted-level-0);\n",
              "}\n",
              "\n",
              "#sk-container-id-1 div.sk-toggleable__content pre {\n",
              "  margin: 0.2em;\n",
              "  border-radius: 0.25em;\n",
              "  color: var(--sklearn-color-text);\n",
              "  /* unfitted */\n",
              "  background-color: var(--sklearn-color-unfitted-level-0);\n",
              "}\n",
              "\n",
              "#sk-container-id-1 div.sk-toggleable__content.fitted pre {\n",
              "  /* unfitted */\n",
              "  background-color: var(--sklearn-color-fitted-level-0);\n",
              "}\n",
              "\n",
              "#sk-container-id-1 input.sk-toggleable__control:checked~div.sk-toggleable__content {\n",
              "  /* Expand drop-down */\n",
              "  max-height: 200px;\n",
              "  max-width: 100%;\n",
              "  overflow: auto;\n",
              "}\n",
              "\n",
              "#sk-container-id-1 input.sk-toggleable__control:checked~label.sk-toggleable__label-arrow:before {\n",
              "  content: \"▾\";\n",
              "}\n",
              "\n",
              "/* Pipeline/ColumnTransformer-specific style */\n",
              "\n",
              "#sk-container-id-1 div.sk-label input.sk-toggleable__control:checked~label.sk-toggleable__label {\n",
              "  color: var(--sklearn-color-text);\n",
              "  background-color: var(--sklearn-color-unfitted-level-2);\n",
              "}\n",
              "\n",
              "#sk-container-id-1 div.sk-label.fitted input.sk-toggleable__control:checked~label.sk-toggleable__label {\n",
              "  background-color: var(--sklearn-color-fitted-level-2);\n",
              "}\n",
              "\n",
              "/* Estimator-specific style */\n",
              "\n",
              "/* Colorize estimator box */\n",
              "#sk-container-id-1 div.sk-estimator input.sk-toggleable__control:checked~label.sk-toggleable__label {\n",
              "  /* unfitted */\n",
              "  background-color: var(--sklearn-color-unfitted-level-2);\n",
              "}\n",
              "\n",
              "#sk-container-id-1 div.sk-estimator.fitted input.sk-toggleable__control:checked~label.sk-toggleable__label {\n",
              "  /* fitted */\n",
              "  background-color: var(--sklearn-color-fitted-level-2);\n",
              "}\n",
              "\n",
              "#sk-container-id-1 div.sk-label label.sk-toggleable__label,\n",
              "#sk-container-id-1 div.sk-label label {\n",
              "  /* The background is the default theme color */\n",
              "  color: var(--sklearn-color-text-on-default-background);\n",
              "}\n",
              "\n",
              "/* On hover, darken the color of the background */\n",
              "#sk-container-id-1 div.sk-label:hover label.sk-toggleable__label {\n",
              "  color: var(--sklearn-color-text);\n",
              "  background-color: var(--sklearn-color-unfitted-level-2);\n",
              "}\n",
              "\n",
              "/* Label box, darken color on hover, fitted */\n",
              "#sk-container-id-1 div.sk-label.fitted:hover label.sk-toggleable__label.fitted {\n",
              "  color: var(--sklearn-color-text);\n",
              "  background-color: var(--sklearn-color-fitted-level-2);\n",
              "}\n",
              "\n",
              "/* Estimator label */\n",
              "\n",
              "#sk-container-id-1 div.sk-label label {\n",
              "  font-family: monospace;\n",
              "  font-weight: bold;\n",
              "  display: inline-block;\n",
              "  line-height: 1.2em;\n",
              "}\n",
              "\n",
              "#sk-container-id-1 div.sk-label-container {\n",
              "  text-align: center;\n",
              "}\n",
              "\n",
              "/* Estimator-specific */\n",
              "#sk-container-id-1 div.sk-estimator {\n",
              "  font-family: monospace;\n",
              "  border: 1px dotted var(--sklearn-color-border-box);\n",
              "  border-radius: 0.25em;\n",
              "  box-sizing: border-box;\n",
              "  margin-bottom: 0.5em;\n",
              "  /* unfitted */\n",
              "  background-color: var(--sklearn-color-unfitted-level-0);\n",
              "}\n",
              "\n",
              "#sk-container-id-1 div.sk-estimator.fitted {\n",
              "  /* fitted */\n",
              "  background-color: var(--sklearn-color-fitted-level-0);\n",
              "}\n",
              "\n",
              "/* on hover */\n",
              "#sk-container-id-1 div.sk-estimator:hover {\n",
              "  /* unfitted */\n",
              "  background-color: var(--sklearn-color-unfitted-level-2);\n",
              "}\n",
              "\n",
              "#sk-container-id-1 div.sk-estimator.fitted:hover {\n",
              "  /* fitted */\n",
              "  background-color: var(--sklearn-color-fitted-level-2);\n",
              "}\n",
              "\n",
              "/* Specification for estimator info (e.g. \"i\" and \"?\") */\n",
              "\n",
              "/* Common style for \"i\" and \"?\" */\n",
              "\n",
              ".sk-estimator-doc-link,\n",
              "a:link.sk-estimator-doc-link,\n",
              "a:visited.sk-estimator-doc-link {\n",
              "  float: right;\n",
              "  font-size: smaller;\n",
              "  line-height: 1em;\n",
              "  font-family: monospace;\n",
              "  background-color: var(--sklearn-color-background);\n",
              "  border-radius: 1em;\n",
              "  height: 1em;\n",
              "  width: 1em;\n",
              "  text-decoration: none !important;\n",
              "  margin-left: 0.5em;\n",
              "  text-align: center;\n",
              "  /* unfitted */\n",
              "  border: var(--sklearn-color-unfitted-level-1) 1pt solid;\n",
              "  color: var(--sklearn-color-unfitted-level-1);\n",
              "}\n",
              "\n",
              ".sk-estimator-doc-link.fitted,\n",
              "a:link.sk-estimator-doc-link.fitted,\n",
              "a:visited.sk-estimator-doc-link.fitted {\n",
              "  /* fitted */\n",
              "  border: var(--sklearn-color-fitted-level-1) 1pt solid;\n",
              "  color: var(--sklearn-color-fitted-level-1);\n",
              "}\n",
              "\n",
              "/* On hover */\n",
              "div.sk-estimator:hover .sk-estimator-doc-link:hover,\n",
              ".sk-estimator-doc-link:hover,\n",
              "div.sk-label-container:hover .sk-estimator-doc-link:hover,\n",
              ".sk-estimator-doc-link:hover {\n",
              "  /* unfitted */\n",
              "  background-color: var(--sklearn-color-unfitted-level-3);\n",
              "  color: var(--sklearn-color-background);\n",
              "  text-decoration: none;\n",
              "}\n",
              "\n",
              "div.sk-estimator.fitted:hover .sk-estimator-doc-link.fitted:hover,\n",
              ".sk-estimator-doc-link.fitted:hover,\n",
              "div.sk-label-container:hover .sk-estimator-doc-link.fitted:hover,\n",
              ".sk-estimator-doc-link.fitted:hover {\n",
              "  /* fitted */\n",
              "  background-color: var(--sklearn-color-fitted-level-3);\n",
              "  color: var(--sklearn-color-background);\n",
              "  text-decoration: none;\n",
              "}\n",
              "\n",
              "/* Span, style for the box shown on hovering the info icon */\n",
              ".sk-estimator-doc-link span {\n",
              "  display: none;\n",
              "  z-index: 9999;\n",
              "  position: relative;\n",
              "  font-weight: normal;\n",
              "  right: .2ex;\n",
              "  padding: .5ex;\n",
              "  margin: .5ex;\n",
              "  width: min-content;\n",
              "  min-width: 20ex;\n",
              "  max-width: 50ex;\n",
              "  color: var(--sklearn-color-text);\n",
              "  box-shadow: 2pt 2pt 4pt #999;\n",
              "  /* unfitted */\n",
              "  background: var(--sklearn-color-unfitted-level-0);\n",
              "  border: .5pt solid var(--sklearn-color-unfitted-level-3);\n",
              "}\n",
              "\n",
              ".sk-estimator-doc-link.fitted span {\n",
              "  /* fitted */\n",
              "  background: var(--sklearn-color-fitted-level-0);\n",
              "  border: var(--sklearn-color-fitted-level-3);\n",
              "}\n",
              "\n",
              ".sk-estimator-doc-link:hover span {\n",
              "  display: block;\n",
              "}\n",
              "\n",
              "/* \"?\"-specific style due to the `<a>` HTML tag */\n",
              "\n",
              "#sk-container-id-1 a.estimator_doc_link {\n",
              "  float: right;\n",
              "  font-size: 1rem;\n",
              "  line-height: 1em;\n",
              "  font-family: monospace;\n",
              "  background-color: var(--sklearn-color-background);\n",
              "  border-radius: 1rem;\n",
              "  height: 1rem;\n",
              "  width: 1rem;\n",
              "  text-decoration: none;\n",
              "  /* unfitted */\n",
              "  color: var(--sklearn-color-unfitted-level-1);\n",
              "  border: var(--sklearn-color-unfitted-level-1) 1pt solid;\n",
              "}\n",
              "\n",
              "#sk-container-id-1 a.estimator_doc_link.fitted {\n",
              "  /* fitted */\n",
              "  border: var(--sklearn-color-fitted-level-1) 1pt solid;\n",
              "  color: var(--sklearn-color-fitted-level-1);\n",
              "}\n",
              "\n",
              "/* On hover */\n",
              "#sk-container-id-1 a.estimator_doc_link:hover {\n",
              "  /* unfitted */\n",
              "  background-color: var(--sklearn-color-unfitted-level-3);\n",
              "  color: var(--sklearn-color-background);\n",
              "  text-decoration: none;\n",
              "}\n",
              "\n",
              "#sk-container-id-1 a.estimator_doc_link.fitted:hover {\n",
              "  /* fitted */\n",
              "  background-color: var(--sklearn-color-fitted-level-3);\n",
              "}\n",
              "</style><div id=\"sk-container-id-1\" class=\"sk-top-container\"><div class=\"sk-text-repr-fallback\"><pre>GridSearchCV(cv=3,\n",
              "             estimator=Pipeline(steps=[(&#x27;preprocessor&#x27;,\n",
              "                                        ColumnTransformer(transformers=[(&#x27;num&#x27;,\n",
              "                                                                         StandardScaler(),\n",
              "                                                                         [&#x27;estimated_delivery_days&#x27;,\n",
              "                                                                          &#x27;delivery_days&#x27;,\n",
              "                                                                          &#x27;delivery_delta&#x27;,\n",
              "                                                                          &#x27;delivery_delayed&#x27;,\n",
              "                                                                          &#x27;avg_product_price&#x27;,\n",
              "                                                                          &#x27;total_order_price&#x27;,\n",
              "                                                                          &#x27;item_count&#x27;,\n",
              "                                                                          &#x27;order_freight_value&#x27;,\n",
              "                                                                          &#x27;avg_product_weight&#x27;,\n",
              "                                                                          &#x27;total_order_weight_g&#x27;,\n",
              "                                                                          &#x27;avg_product_volume_cm3&#x27;,\n",
              "                                                                          &#x27;total_orde...\n",
              "                                                                          &#x27;seller_state_PE&#x27;, ...])])),\n",
              "                                       (&#x27;classifier&#x27;,\n",
              "                                        MLPClassifier(max_iter=300,\n",
              "                                                      random_state=42))]),\n",
              "             n_jobs=-1,\n",
              "             param_grid={&#x27;classifier__activation&#x27;: [&#x27;relu&#x27;, &#x27;tanh&#x27;, &#x27;logistic&#x27;],\n",
              "                         &#x27;classifier__alpha&#x27;: [0.0001, 0.001, 0.01],\n",
              "                         &#x27;classifier__hidden_layer_sizes&#x27;: [(10,), (20,),\n",
              "                                                            (10, 5), (20, 10),\n",
              "                                                            (15, 10, 5)],\n",
              "                         &#x27;classifier__learning_rate_init&#x27;: [0.001, 0.01, 0.1]},\n",
              "             scoring=&#x27;accuracy&#x27;, verbose=1)</pre><b>In a Jupyter environment, please rerun this cell to show the HTML representation or trust the notebook. <br />On GitHub, the HTML representation is unable to render, please try loading this page with nbviewer.org.</b></div><div class=\"sk-container\" hidden><div class=\"sk-item sk-dashed-wrapped\"><div class=\"sk-label-container\"><div class=\"sk-label fitted sk-toggleable\"><input class=\"sk-toggleable__control sk-hidden--visually\" id=\"sk-estimator-id-1\" type=\"checkbox\" ><label for=\"sk-estimator-id-1\" class=\"sk-toggleable__label fitted sk-toggleable__label-arrow\"><div><div>GridSearchCV</div></div><div><a class=\"sk-estimator-doc-link fitted\" rel=\"noreferrer\" target=\"_blank\" href=\"https://scikit-learn.org/1.6/modules/generated/sklearn.model_selection.GridSearchCV.html\">?<span>Documentation for GridSearchCV</span></a><span class=\"sk-estimator-doc-link fitted\">i<span>Fitted</span></span></div></label><div class=\"sk-toggleable__content fitted\"><pre>GridSearchCV(cv=3,\n",
              "             estimator=Pipeline(steps=[(&#x27;preprocessor&#x27;,\n",
              "                                        ColumnTransformer(transformers=[(&#x27;num&#x27;,\n",
              "                                                                         StandardScaler(),\n",
              "                                                                         [&#x27;estimated_delivery_days&#x27;,\n",
              "                                                                          &#x27;delivery_days&#x27;,\n",
              "                                                                          &#x27;delivery_delta&#x27;,\n",
              "                                                                          &#x27;delivery_delayed&#x27;,\n",
              "                                                                          &#x27;avg_product_price&#x27;,\n",
              "                                                                          &#x27;total_order_price&#x27;,\n",
              "                                                                          &#x27;item_count&#x27;,\n",
              "                                                                          &#x27;order_freight_value&#x27;,\n",
              "                                                                          &#x27;avg_product_weight&#x27;,\n",
              "                                                                          &#x27;total_order_weight_g&#x27;,\n",
              "                                                                          &#x27;avg_product_volume_cm3&#x27;,\n",
              "                                                                          &#x27;total_orde...\n",
              "                                                                          &#x27;seller_state_PE&#x27;, ...])])),\n",
              "                                       (&#x27;classifier&#x27;,\n",
              "                                        MLPClassifier(max_iter=300,\n",
              "                                                      random_state=42))]),\n",
              "             n_jobs=-1,\n",
              "             param_grid={&#x27;classifier__activation&#x27;: [&#x27;relu&#x27;, &#x27;tanh&#x27;, &#x27;logistic&#x27;],\n",
              "                         &#x27;classifier__alpha&#x27;: [0.0001, 0.001, 0.01],\n",
              "                         &#x27;classifier__hidden_layer_sizes&#x27;: [(10,), (20,),\n",
              "                                                            (10, 5), (20, 10),\n",
              "                                                            (15, 10, 5)],\n",
              "                         &#x27;classifier__learning_rate_init&#x27;: [0.001, 0.01, 0.1]},\n",
              "             scoring=&#x27;accuracy&#x27;, verbose=1)</pre></div> </div></div><div class=\"sk-parallel\"><div class=\"sk-parallel-item\"><div class=\"sk-item\"><div class=\"sk-label-container\"><div class=\"sk-label fitted sk-toggleable\"><input class=\"sk-toggleable__control sk-hidden--visually\" id=\"sk-estimator-id-2\" type=\"checkbox\" ><label for=\"sk-estimator-id-2\" class=\"sk-toggleable__label fitted sk-toggleable__label-arrow\"><div><div>best_estimator_: Pipeline</div></div></label><div class=\"sk-toggleable__content fitted\"><pre>Pipeline(steps=[(&#x27;preprocessor&#x27;,\n",
              "                 ColumnTransformer(transformers=[(&#x27;num&#x27;, StandardScaler(),\n",
              "                                                  [&#x27;estimated_delivery_days&#x27;,\n",
              "                                                   &#x27;delivery_days&#x27;,\n",
              "                                                   &#x27;delivery_delta&#x27;,\n",
              "                                                   &#x27;delivery_delayed&#x27;,\n",
              "                                                   &#x27;avg_product_price&#x27;,\n",
              "                                                   &#x27;total_order_price&#x27;,\n",
              "                                                   &#x27;item_count&#x27;,\n",
              "                                                   &#x27;order_freight_value&#x27;,\n",
              "                                                   &#x27;avg_product_weight&#x27;,\n",
              "                                                   &#x27;total_order_weight_g&#x27;,\n",
              "                                                   &#x27;avg_product_volume_cm3&#x27;,\n",
              "                                                   &#x27;total_order_volume_cm3&#x27;,\n",
              "                                                   &#x27;freight_to_pr...\n",
              "                                                   &#x27;seller_state_BA&#x27;,\n",
              "                                                   &#x27;seller_state_CE&#x27;,\n",
              "                                                   &#x27;seller_state_DF&#x27;,\n",
              "                                                   &#x27;seller_state_ES&#x27;,\n",
              "                                                   &#x27;seller_state_GO&#x27;,\n",
              "                                                   &#x27;seller_state_MA&#x27;,\n",
              "                                                   &#x27;seller_state_MG&#x27;,\n",
              "                                                   &#x27;seller_state_MS&#x27;,\n",
              "                                                   &#x27;seller_state_MT&#x27;,\n",
              "                                                   &#x27;seller_state_PA&#x27;,\n",
              "                                                   &#x27;seller_state_PB&#x27;,\n",
              "                                                   &#x27;seller_state_PE&#x27;, ...])])),\n",
              "                (&#x27;classifier&#x27;,\n",
              "                 MLPClassifier(activation=&#x27;tanh&#x27;, alpha=0.01,\n",
              "                               hidden_layer_sizes=(10, 5),\n",
              "                               learning_rate_init=0.01, max_iter=300,\n",
              "                               random_state=42))])</pre></div> </div></div><div class=\"sk-serial\"><div class=\"sk-item\"><div class=\"sk-serial\"><div class=\"sk-item sk-dashed-wrapped\"><div class=\"sk-label-container\"><div class=\"sk-label fitted sk-toggleable\"><input class=\"sk-toggleable__control sk-hidden--visually\" id=\"sk-estimator-id-3\" type=\"checkbox\" ><label for=\"sk-estimator-id-3\" class=\"sk-toggleable__label fitted sk-toggleable__label-arrow\"><div><div>preprocessor: ColumnTransformer</div></div><div><a class=\"sk-estimator-doc-link fitted\" rel=\"noreferrer\" target=\"_blank\" href=\"https://scikit-learn.org/1.6/modules/generated/sklearn.compose.ColumnTransformer.html\">?<span>Documentation for preprocessor: ColumnTransformer</span></a></div></label><div class=\"sk-toggleable__content fitted\"><pre>ColumnTransformer(transformers=[(&#x27;num&#x27;, StandardScaler(),\n",
              "                                 [&#x27;estimated_delivery_days&#x27;, &#x27;delivery_days&#x27;,\n",
              "                                  &#x27;delivery_delta&#x27;, &#x27;delivery_delayed&#x27;,\n",
              "                                  &#x27;avg_product_price&#x27;, &#x27;total_order_price&#x27;,\n",
              "                                  &#x27;item_count&#x27;, &#x27;order_freight_value&#x27;,\n",
              "                                  &#x27;avg_product_weight&#x27;, &#x27;total_order_weight_g&#x27;,\n",
              "                                  &#x27;avg_product_volume_cm3&#x27;,\n",
              "                                  &#x27;total_order_volume_cm3&#x27;, &#x27;freight_to_price&#x27;,\n",
              "                                  &#x27;shipping_distance_km&#x27;, &#x27;different_state&#x27;,\n",
              "                                  &#x27;payment_installments&#x27;, &#x27;split_payments&#x27;,\n",
              "                                  &#x27;seller_state_AM&#x27;, &#x27;seller_state_BA&#x27;,\n",
              "                                  &#x27;seller_state_CE&#x27;, &#x27;seller_state_DF&#x27;,\n",
              "                                  &#x27;seller_state_ES&#x27;, &#x27;seller_state_GO&#x27;,\n",
              "                                  &#x27;seller_state_MA&#x27;, &#x27;seller_state_MG&#x27;,\n",
              "                                  &#x27;seller_state_MS&#x27;, &#x27;seller_state_MT&#x27;,\n",
              "                                  &#x27;seller_state_PA&#x27;, &#x27;seller_state_PB&#x27;,\n",
              "                                  &#x27;seller_state_PE&#x27;, ...])])</pre></div> </div></div><div class=\"sk-parallel\"><div class=\"sk-parallel-item\"><div class=\"sk-item\"><div class=\"sk-label-container\"><div class=\"sk-label fitted sk-toggleable\"><input class=\"sk-toggleable__control sk-hidden--visually\" id=\"sk-estimator-id-4\" type=\"checkbox\" ><label for=\"sk-estimator-id-4\" class=\"sk-toggleable__label fitted sk-toggleable__label-arrow\"><div><div>num</div></div></label><div class=\"sk-toggleable__content fitted\"><pre>[&#x27;estimated_delivery_days&#x27;, &#x27;delivery_days&#x27;, &#x27;delivery_delta&#x27;, &#x27;delivery_delayed&#x27;, &#x27;avg_product_price&#x27;, &#x27;total_order_price&#x27;, &#x27;item_count&#x27;, &#x27;order_freight_value&#x27;, &#x27;avg_product_weight&#x27;, &#x27;total_order_weight_g&#x27;, &#x27;avg_product_volume_cm3&#x27;, &#x27;total_order_volume_cm3&#x27;, &#x27;freight_to_price&#x27;, &#x27;shipping_distance_km&#x27;, &#x27;different_state&#x27;, &#x27;payment_installments&#x27;, &#x27;split_payments&#x27;, &#x27;seller_state_AM&#x27;, &#x27;seller_state_BA&#x27;, &#x27;seller_state_CE&#x27;, &#x27;seller_state_DF&#x27;, &#x27;seller_state_ES&#x27;, &#x27;seller_state_GO&#x27;, &#x27;seller_state_MA&#x27;, &#x27;seller_state_MG&#x27;, &#x27;seller_state_MS&#x27;, &#x27;seller_state_MT&#x27;, &#x27;seller_state_PA&#x27;, &#x27;seller_state_PB&#x27;, &#x27;seller_state_PE&#x27;, &#x27;seller_state_PI&#x27;, &#x27;seller_state_PR&#x27;, &#x27;seller_state_RJ&#x27;, &#x27;seller_state_RN&#x27;, &#x27;seller_state_RO&#x27;, &#x27;seller_state_RS&#x27;, &#x27;seller_state_SC&#x27;, &#x27;seller_state_SE&#x27;, &#x27;seller_state_SP&#x27;, &#x27;customer_state_AC&#x27;, &#x27;customer_state_AL&#x27;, &#x27;customer_state_AM&#x27;, &#x27;customer_state_AP&#x27;, &#x27;customer_state_BA&#x27;, &#x27;customer_state_CE&#x27;, &#x27;customer_state_DF&#x27;, &#x27;customer_state_ES&#x27;, &#x27;customer_state_GO&#x27;, &#x27;customer_state_MA&#x27;, &#x27;customer_state_MG&#x27;, &#x27;customer_state_MS&#x27;, &#x27;customer_state_MT&#x27;, &#x27;customer_state_PA&#x27;, &#x27;customer_state_PB&#x27;, &#x27;customer_state_PE&#x27;, &#x27;customer_state_PI&#x27;, &#x27;customer_state_PR&#x27;, &#x27;customer_state_RJ&#x27;, &#x27;customer_state_RN&#x27;, &#x27;customer_state_RO&#x27;, &#x27;customer_state_RR&#x27;, &#x27;customer_state_RS&#x27;, &#x27;customer_state_SC&#x27;, &#x27;customer_state_SE&#x27;, &#x27;customer_state_SP&#x27;, &#x27;customer_state_TO&#x27;, &#x27;payment_type_boleto&#x27;, &#x27;payment_type_credit_card&#x27;, &#x27;payment_type_debit_card&#x27;, &#x27;payment_type_voucher&#x27;]</pre></div> </div></div><div class=\"sk-serial\"><div class=\"sk-item\"><div class=\"sk-estimator fitted sk-toggleable\"><input class=\"sk-toggleable__control sk-hidden--visually\" id=\"sk-estimator-id-5\" type=\"checkbox\" ><label for=\"sk-estimator-id-5\" class=\"sk-toggleable__label fitted sk-toggleable__label-arrow\"><div><div>StandardScaler</div></div><div><a class=\"sk-estimator-doc-link fitted\" rel=\"noreferrer\" target=\"_blank\" href=\"https://scikit-learn.org/1.6/modules/generated/sklearn.preprocessing.StandardScaler.html\">?<span>Documentation for StandardScaler</span></a></div></label><div class=\"sk-toggleable__content fitted\"><pre>StandardScaler()</pre></div> </div></div></div></div></div></div></div><div class=\"sk-item\"><div class=\"sk-estimator fitted sk-toggleable\"><input class=\"sk-toggleable__control sk-hidden--visually\" id=\"sk-estimator-id-6\" type=\"checkbox\" ><label for=\"sk-estimator-id-6\" class=\"sk-toggleable__label fitted sk-toggleable__label-arrow\"><div><div>MLPClassifier</div></div><div><a class=\"sk-estimator-doc-link fitted\" rel=\"noreferrer\" target=\"_blank\" href=\"https://scikit-learn.org/1.6/modules/generated/sklearn.neural_network.MLPClassifier.html\">?<span>Documentation for MLPClassifier</span></a></div></label><div class=\"sk-toggleable__content fitted\"><pre>MLPClassifier(activation=&#x27;tanh&#x27;, alpha=0.01, hidden_layer_sizes=(10, 5),\n",
              "              learning_rate_init=0.01, max_iter=300, random_state=42)</pre></div> </div></div></div></div></div></div></div></div></div></div></div>"
            ],
            "text/plain": [
              "GridSearchCV(cv=3,\n",
              "             estimator=Pipeline(steps=[('preprocessor',\n",
              "                                        ColumnTransformer(transformers=[('num',\n",
              "                                                                         StandardScaler(),\n",
              "                                                                         ['estimated_delivery_days',\n",
              "                                                                          'delivery_days',\n",
              "                                                                          'delivery_delta',\n",
              "                                                                          'delivery_delayed',\n",
              "                                                                          'avg_product_price',\n",
              "                                                                          'total_order_price',\n",
              "                                                                          'item_count',\n",
              "                                                                          'order_freight_value',\n",
              "                                                                          'avg_product_weight',\n",
              "                                                                          'total_order_weight_g',\n",
              "                                                                          'avg_product_volume_cm3',\n",
              "                                                                          'total_orde...\n",
              "                                                                          'seller_state_PE', ...])])),\n",
              "                                       ('classifier',\n",
              "                                        MLPClassifier(max_iter=300,\n",
              "                                                      random_state=42))]),\n",
              "             n_jobs=-1,\n",
              "             param_grid={'classifier__activation': ['relu', 'tanh', 'logistic'],\n",
              "                         'classifier__alpha': [0.0001, 0.001, 0.01],\n",
              "                         'classifier__hidden_layer_sizes': [(10,), (20,),\n",
              "                                                            (10, 5), (20, 10),\n",
              "                                                            (15, 10, 5)],\n",
              "                         'classifier__learning_rate_init': [0.001, 0.01, 0.1]},\n",
              "             scoring='accuracy', verbose=1)"
            ]
          },
          "execution_count": 23,
          "metadata": {},
          "output_type": "execute_result"
        }
      ],
      "source": [
        "# Configurar Grid Search con Cross Validation\n",
        "grid_search = GridSearchCV(\n",
        "    gs_pipeline,\n",
        "    param_grid=param_grid,\n",
        "    cv=3,  # Usar menos folds para ahorrar tiempo\n",
        "    n_jobs=-1,  # Usar todos los procesadores disponibles\n",
        "    scoring='accuracy',\n",
        "    verbose=1\n",
        ")\n",
        "\n",
        "# Ejecutar Grid Search\n",
        "print(\"\\nRealizando búsqueda de hiperparámetros (puede tardar varios minutos)...\")\n",
        "grid_search.fit(X_train, y_train)"
      ]
    },
    {
      "cell_type": "code",
      "execution_count": 24,
      "metadata": {},
      "outputs": [
        {
          "name": "stdout",
          "output_type": "stream",
          "text": [
            "\n",
            "Mejores parámetros encontrados:\n",
            "{'classifier__activation': 'tanh', 'classifier__alpha': 0.01, 'classifier__hidden_layer_sizes': (10, 5), 'classifier__learning_rate_init': 0.01}\n",
            "Mejor score: 0.6183\n"
          ]
        }
      ],
      "source": [
        "# Mostrar mejores parámetros\n",
        "print(\"\\nMejores parámetros encontrados:\")\n",
        "print(grid_search.best_params_)\n",
        "print(f\"Mejor score: {grid_search.best_score_:.4f}\")\n"
      ]
    },
    {
      "cell_type": "markdown",
      "metadata": {},
      "source": [
        "Modelo optimizado con los mejores parámetros"
      ]
    },
    {
      "cell_type": "code",
      "execution_count": 25,
      "metadata": {},
      "outputs": [],
      "source": [
        "# Usar el mejor modelo encontrado\n",
        "best_model = grid_search.best_estimator_\n"
      ]
    },
    {
      "cell_type": "code",
      "execution_count": 26,
      "metadata": {},
      "outputs": [
        {
          "name": "stdout",
          "output_type": "stream",
          "text": [
            "\n",
            "Matriz de confusión:\n",
            " [[  933     0     0     0  1842]\n",
            " [  134     0     0     0   719]\n",
            " [  137     0     0     0  2185]\n",
            " [   74     0     0     1  5564]\n",
            " [  163     0     0     0 16607]]\n",
            "Accuracy: 0.6185337987940336\n",
            "Precision: 0.6270432476209351\n",
            "Recall: 0.6185337987940336\n",
            "F1-score: 0.4929642770501039\n"
          ]
        },
        {
          "name": "stderr",
          "output_type": "stream",
          "text": [
            "c:\\Users\\diego\\AppData\\Local\\Programs\\Python\\Python313\\Lib\\site-packages\\sklearn\\metrics\\_classification.py:1565: UndefinedMetricWarning: Precision is ill-defined and being set to 0.0 in labels with no predicted samples. Use `zero_division` parameter to control this behavior.\n",
            "  _warn_prf(average, modifier, f\"{metric.capitalize()} is\", len(result))\n"
          ]
        }
      ],
      "source": [
        "# Evaluar en conjunto de prueba\n",
        "y_pred_best = best_model.predict(X_test)\n",
        "best_metrics = evaluate_classifier(y_test, y_pred_best)\n"
      ]
    },
    {
      "cell_type": "markdown",
      "metadata": {},
      "source": [
        "Comparar resultados"
      ]
    },
    {
      "cell_type": "code",
      "execution_count": 27,
      "metadata": {},
      "outputs": [],
      "source": [
        "# Crear DataFrame para comparar resultados\n",
        "results_comparison = pd.DataFrame({\n",
        "    'Modelo Básico': [\n",
        "        basic_metrics['accuracy'],\n",
        "        basic_metrics['precision'],\n",
        "        basic_metrics['recall'],\n",
        "        basic_metrics['f1']\n",
        "    ],\n",
        "    'Modelo Optimizado': [\n",
        "        best_metrics['accuracy'],\n",
        "        best_metrics['precision'],\n",
        "        best_metrics['recall'],\n",
        "        best_metrics['f1']\n",
        "    ]\n",
        "}, index=['Accuracy', 'Precision', 'Recall', 'F1-Score'])"
      ]
    },
    {
      "cell_type": "code",
      "execution_count": 34,
      "metadata": {},
      "outputs": [
        {
          "name": "stdout",
          "output_type": "stream",
          "text": [
            "           Modelo Básico  Modelo Optimizado\n",
            "Accuracy        0.618393           0.618534\n",
            "Precision       0.454033           0.627043\n",
            "Recall          0.618393           0.618534\n",
            "F1-Score        0.493851           0.492964\n"
          ]
        }
      ],
      "source": [
        "print(results_comparison)"
      ]
    },
    {
      "cell_type": "markdown",
      "metadata": {},
      "source": [
        "Aca podemos oberservar como el modelo optimizado mejora la precision y eso que estamos usando pocos folds o divisiones del dataset. "
      ]
    },
    {
      "cell_type": "markdown",
      "metadata": {},
      "source": [
        "Visualización de resultados"
      ]
    },
    {
      "cell_type": "markdown",
      "metadata": {},
      "source": [
        "##### Matriz de confusión para el mejor modelo"
      ]
    },
    {
      "cell_type": "code",
      "execution_count": 28,
      "metadata": {},
      "outputs": [
        {
          "data": {
            "image/png": "[encoded data removed]",
            "text/plain": [
              "<Figure size 1000x800 with 2 Axes>"
            ]
          },
          "metadata": {},
          "output_type": "display_data"
        }
      ],
      "source": [
        "\n",
        "plt.figure(figsize=(10, 8))\n",
        "cm = confusion_matrix(y_test, y_pred_best)\n",
        "sns.heatmap(cm, annot=True, fmt='d', cmap='Blues')\n",
        "plt.title('Matriz de Confusión - Mejor Modelo')\n",
        "plt.xlabel('Predicción')\n",
        "plt.ylabel('Valor Real')\n",
        "plt.show()"
      ]
    },
    {
      "cell_type": "markdown",
      "metadata": {},
      "source": [
        "##### Comparar métricas entre modelos"
      ]
    },
    {
      "cell_type": "code",
      "execution_count": 29,
      "metadata": {},
      "outputs": [
        {
          "data": {
            "text/plain": [
              "<Figure size 1200x600 with 0 Axes>"
            ]
          },
          "metadata": {},
          "output_type": "display_data"
        },
        {
          "data": {
            "image/png": "[encoded data removed]",
            "text/plain": [
              "<Figure size 1200x600 with 1 Axes>"
            ]
          },
          "metadata": {},
          "output_type": "display_data"
        }
      ],
      "source": [
        "plt.figure(figsize=(12, 6))\n",
        "results_comparison.plot(kind='bar', figsize=(12, 6))\n",
        "plt.title('Comparación de Métricas entre Modelos')\n",
        "plt.ylabel('Puntuación')\n",
        "plt.ylim(0, 1)\n",
        "plt.grid(axis='y', linestyle='--', alpha=0.7)\n",
        "plt.xticks(rotation=0)\n",
        "plt.legend(title='Modelo')\n",
        "plt.tight_layout()\n",
        "plt.show()"
      ]
    },
    {
      "cell_type": "markdown",
      "metadata": {},
      "source": [
        "##### Visualizar puntuaciones de validación cruzada"
      ]
    },
    {
      "cell_type": "code",
      "execution_count": 30,
      "metadata": {},
      "outputs": [
        {
          "data": {
            "image/png": "[encoded data removed]",
            "text/plain": [
              "<Figure size 1000x600 with 1 Axes>"
            ]
          },
          "metadata": {},
          "output_type": "display_data"
        }
      ],
      "source": [
        "\n",
        "plt.figure(figsize=(10, 6))\n",
        "plt.bar(range(1, k_folds + 1), cv_scores, color='skyblue')\n",
        "plt.axhline(y=cv_scores.mean(), color='red', linestyle='--')\n",
        "plt.text(0.5, cv_scores.mean() + 0.02, f'Media: {cv_scores.mean():.4f}', color='red')\n",
        "plt.xlabel('Fold')\n",
        "plt.ylabel('Accuracy')\n",
        "plt.title('Resultados de Validación Cruzada')\n",
        "plt.xticks(range(1, k_folds + 1))\n",
        "plt.ylim(0, 1)\n",
        "plt.grid(axis='y', linestyle='--', alpha=0.7)\n",
        "plt.show()"
      ]
    },
    {
      "cell_type": "markdown",
      "metadata": {},
      "source": [
        " Análisis de arquitecturas de redes neuronales"
      ]
    },
    {
      "cell_type": "code",
      "execution_count": 31,
      "metadata": {},
      "outputs": [],
      "source": [
        "\n",
        "# Definir diferentes arquitecturas para comparar\n",
        "architectures = [\n",
        "    ('Simple', (10,)),\n",
        "    ('Media', (15, 10)),\n",
        "    ('Compleja', (20, 15, 10)),\n",
        "    ('Muy Compleja', (25, 20, 15, 10))\n",
        "]\n",
        "\n",
        "# Almacenar resultados\n",
        "arch_results = []\n"
      ]
    },
    {
      "cell_type": "code",
      "execution_count": 35,
      "metadata": {},
      "outputs": [
        {
          "name": "stdout",
          "output_type": "stream",
          "text": [
            "\n",
            "Entrenando arquitectura Simple: (10,)\n",
            "Accuracy: 0.6175\n",
            "Tiempo de entrenamiento: 5.81 segundos\n",
            "\n",
            "Entrenando arquitectura Media: (15, 10)\n",
            "Accuracy: 0.6178\n",
            "Tiempo de entrenamiento: 13.89 segundos\n",
            "\n",
            "Entrenando arquitectura Compleja: (20, 15, 10)\n",
            "Accuracy: 0.6166\n",
            "Tiempo de entrenamiento: 20.84 segundos\n",
            "\n",
            "Entrenando arquitectura Muy Compleja: (25, 20, 15, 10)\n",
            "Accuracy: 0.6145\n",
            "Tiempo de entrenamiento: 28.91 segundos\n"
          ]
        }
      ],
      "source": [
        "# Probar cada arquitectura\n",
        "for name, hidden_layer_sizes in architectures:\n",
        "    print(f\"\\nEntrenando arquitectura {name}: {hidden_layer_sizes}\")\n",
        "    \n",
        "    # Crear y entrenar modelo\n",
        "    model = Pipeline([\n",
        "        ('preprocessor', preprocessor),\n",
        "        ('classifier', MLPClassifier(\n",
        "            hidden_layer_sizes=hidden_layer_sizes,\n",
        "            activation='relu',\n",
        "            solver='adam',\n",
        "            alpha=0.001,\n",
        "            max_iter=500,\n",
        "            random_state=42,\n",
        "            verbose=False\n",
        "        ))\n",
        "    ])\n",
        "    \n",
        "    # Medir tiempo de entrenamiento\n",
        "    start_time = time.time()\n",
        "    model.fit(X_train, y_train)\n",
        "    train_time = time.time() - start_time\n",
        "    \n",
        "    # Evaluar\n",
        "    y_pred = model.predict(X_test)\n",
        "    accuracy = accuracy_score(y_test, y_pred)\n",
        "    \n",
        "    # Almacenar resultados\n",
        "    arch_results.append({\n",
        "        'Arquitectura': name,\n",
        "        'Hidden Layers': str(hidden_layer_sizes),\n",
        "        'Accuracy': accuracy,\n",
        "        'Tiempo (s)': train_time\n",
        "    })\n",
        "    \n",
        "    print(f\"Accuracy: {accuracy:.4f}\")\n",
        "    print(f\"Tiempo de entrenamiento: {train_time:.2f} segundos\")"
      ]
    },
    {
      "cell_type": "code",
      "execution_count": 36,
      "metadata": {},
      "outputs": [
        {
          "name": "stdout",
          "output_type": "stream",
          "text": [
            "\n",
            "Comparación de arquitecturas:\n",
            "   Arquitectura     Hidden Layers  Accuracy  Tiempo (s)\n",
            "0        Simple             (10,)  0.617546    5.922071\n",
            "1         Media          (15, 10)  0.617758   14.575428\n",
            "2      Compleja      (20, 15, 10)  0.616559   21.672541\n",
            "3  Muy Compleja  (25, 20, 15, 10)  0.614514   34.710248\n",
            "4        Simple             (10,)  0.617546    5.813363\n",
            "5         Media          (15, 10)  0.617758   13.894661\n",
            "6      Compleja      (20, 15, 10)  0.616559   20.839864\n",
            "7  Muy Compleja  (25, 20, 15, 10)  0.614514   28.906437\n"
          ]
        },
        {
          "data": {
            "image/png": "[encoded data removed]",
            "text/plain": [
              "<Figure size 1200x600 with 1 Axes>"
            ]
          },
          "metadata": {},
          "output_type": "display_data"
        },
        {
          "data": {
            "image/png": "[encoded data removed]",
            "text/plain": [
              "<Figure size 1200x600 with 1 Axes>"
            ]
          },
          "metadata": {},
          "output_type": "display_data"
        }
      ],
      "source": [
        "# Crear DataFrame de resultados\n",
        "arch_comparison = pd.DataFrame(arch_results)\n",
        "print(\"\\nComparación de arquitecturas:\")\n",
        "print(arch_comparison)\n",
        "\n",
        "# Visualizar comparación de arquitecturas\n",
        "plt.figure(figsize=(12, 6))\n",
        "sns.barplot(x='Arquitectura', y='Accuracy', data=arch_comparison)\n",
        "plt.title('Comparación de Accuracy por Arquitectura')\n",
        "plt.ylim(0, 1)\n",
        "plt.grid(axis='y', linestyle='--', alpha=0.7)\n",
        "plt.show()\n",
        "\n",
        "plt.figure(figsize=(12, 6))\n",
        "sns.barplot(x='Arquitectura', y='Tiempo (s)', data=arch_comparison)\n",
        "plt.title('Tiempo de Entrenamiento por Arquitectura')\n",
        "plt.grid(axis='y', linestyle='--', alpha=0.7)\n",
        "plt.show()\n"
      ]
    },
    {
      "cell_type": "markdown",
      "metadata": {},
      "source": [
        "### Conclusiones"
      ]
    },
    {
      "cell_type": "markdown",
      "metadata": {},
      "source": [
        "- El modelo optimizado mediante GridSearchCV logró mejorar el rendimiento respecto al modelo básico.\n",
        "- La validación cruzada permitió obtener una estimación más robusta del rendimiento del modelo.\n",
        "\n",
        "Hablando en cuanto al analisis de arquitecturas y sus resultados pues \n",
        "- La red \"Media\" tiene ligeramente mejor accuracy, pero consume 3x más tiempo.\n",
        "\n",
        "- La red \"Simple\" es eficiente y ofrece casi el mismo resultado.\n",
        "\n",
        "- Las redes más profundas no aportan valor significativo, y además consumen mucho tiempo."
      ]
    }
  ],
  "metadata": {
    "colab": {
      "authorship_tag": "ABX9TyNuHi68i1RsAFCo7e0ZZIJ7",
      "provenance": []
    },
    "kernelspec": {
      "display_name": "Python 3",
      "name": "python3"
    },
    "language_info": {
      "codemirror_mode": {
        "name": "ipython",
        "version": 3
      },
      "file_extension": ".py",
      "mimetype": "text/x-python",
      "name": "python",
      "nbconvert_exporter": "python",
      "pygments_lexer": "ipython3",
      "version": "3.13.0"
    }
  },
  "nbformat": 4,
  "nbformat_minor": 0
}
